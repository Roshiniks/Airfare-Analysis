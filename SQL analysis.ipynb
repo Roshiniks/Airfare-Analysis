{
 "cells": [
  {
   "cell_type": "code",
   "execution_count": 1,
   "id": "c78659e7-17fa-4555-a01a-4b62e146bf9a",
   "metadata": {},
   "outputs": [],
   "source": [
    "import sqlite3\n",
    "import pandas as pd"
   ]
  },
  {
   "cell_type": "code",
   "execution_count": 2,
   "id": "91d85beb-25bc-47c4-a0a4-37e40e215eb0",
   "metadata": {},
   "outputs": [
    {
     "name": "stdout",
     "output_type": "stream",
     "text": [
      "lenght of data : 300153\n"
     ]
    }
   ],
   "source": [
    "df=pd.read_csv('Indian_Airlines_Cleaned.csv')\n",
    "\n",
    "conn = sqlite3.connect(':memory:')\n",
    "df.to_sql('Indian_Airlines',conn,index=False,if_exists='replace')\n",
    "\n",
    "print(\"lenght of data :\",len(df))"
   ]
  },
  {
   "cell_type": "code",
   "execution_count": 3,
   "id": "ee747fdc-3d7d-40ae-b462-72cebb77ed24",
   "metadata": {},
   "outputs": [
    {
     "name": "stdout",
     "output_type": "stream",
     "text": [
      "------------------------------ average price by airline :  ------------------------------ \n",
      "      airline  average_price\n",
      "0    Vistara   30396.536302\n",
      "1  Air_India   23507.019112\n",
      "2   SpiceJet    6179.278881\n",
      "3   GO_FIRST    5652.007595\n",
      "4     Indigo    5324.216303\n",
      "5    AirAsia    4091.072742\n"
     ]
    }
   ],
   "source": [
    "# 1. Aggregate average price by airline \n",
    "query1 = '''\n",
    "select airline,avg(price) as average_price\n",
    "from Indian_Airlines\n",
    "group by airline\n",
    "order by average_price desc\n",
    "'''\n",
    "\n",
    "result1 = pd.read_sql_query(query1,conn)\n",
    "print('---'*10,'average price by airline : ','---'*10 ,'\\n',result1)"
   ]
  },
  {
   "cell_type": "code",
   "execution_count": 4,
   "id": "e1ef60e5-72ef-4551-91c6-86be9d0ab6aa",
   "metadata": {},
   "outputs": [
    {
     "name": "stdout",
     "output_type": "stream",
     "text": [
      "------------------------------ average price by route :  ------------------------------ \n",
      "                   route  average_price\n",
      "0     Chennai-Bangalore   25081.850454\n",
      "1       Kolkata-Chennai   23660.361040\n",
      "2     Bangalore-Kolkata   23500.061229\n",
      "3     Bangalore-Chennai   23321.850078\n",
      "4      Mumbai-Bangalore   23147.873807\n",
      "5      Bangalore-Mumbai   23128.618672\n",
      "6        Mumbai-Chennai   22781.899112\n",
      "7        Chennai-Mumbai   22765.849647\n",
      "8     Kolkata-Bangalore   22744.808428\n",
      "9       Chennai-Kolkata   22669.932407\n",
      "10       Mumbai-Kolkata   22379.146723\n",
      "11       Kolkata-Mumbai   22078.883579\n",
      "12    Hyderabad-Chennai   21848.065989\n",
      "13    Chennai-Hyderabad   21591.345404\n",
      "14    Kolkata-Hyderabad   21500.011397\n",
      "15  Hyderabad-Bangalore   21347.177998\n",
      "16  Bangalore-Hyderabad   21226.121192\n",
      "17     Mumbai-Hyderabad   21004.046705\n",
      "18    Hyderabad-Kolkata   20823.893201\n",
      "19        Delhi-Kolkata   20566.409418\n",
      "20     Hyderabad-Mumbai   20080.865759\n",
      "21        Kolkata-Delhi   19422.354559\n",
      "22        Delhi-Chennai   19369.881354\n",
      "23         Delhi-Mumbai   19355.829812\n",
      "24        Chennai-Delhi   18981.863948\n",
      "25         Mumbai-Delhi   18725.320008\n",
      "26      Delhi-Bangalore   17880.216315\n",
      "27      Bangalore-Delhi   17723.313972\n",
      "28      Delhi-Hyderabad   17347.288379\n",
      "29      Hyderabad-Delhi   17243.945685\n"
     ]
    }
   ],
   "source": [
    "# 2. Aggregate average price by route \n",
    "query2 = '''\n",
    "select route,avg(price) as average_price\n",
    "from Indian_Airlines\n",
    "group by route\n",
    "order by average_price desc\n",
    "'''\n",
    "\n",
    "result2 = pd.read_sql_query(query2,conn)\n",
    "print('---'*10,'average price by route : ','---'*10 ,'\\n',result2)\n"
   ]
  },
  {
   "cell_type": "code",
   "execution_count": 5,
   "id": "6deb7aaa-f7a2-41b3-952b-ac51f598d22b",
   "metadata": {},
   "outputs": [
    {
     "name": "stdout",
     "output_type": "stream",
     "text": [
      "------------------------------ Top Price Airline :  ------------------------------ \n",
      "    airline   price\n",
      "0  Vistara  123071\n",
      "------------------------------ Lowest Price Airline :  ------------------------------ \n",
      "    airline  price\n",
      "0  AirAsia   1105\n"
     ]
    }
   ],
   "source": [
    "# 3a. Identifying the highest price flight\n",
    "query3a='''\n",
    "select airline, price\n",
    "from Indian_Airlines\n",
    "order by price desc\n",
    "limit 1\n",
    "'''\n",
    "\n",
    "result3a = pd.read_sql_query(query3a,conn)\n",
    "print('---'*10,'Top Price Airline : ','---'*10 ,'\\n',result3a)\n",
    "\n",
    "# 3b. Identifying the lowest rated flight\n",
    "query3b='''\n",
    "select airline,price\n",
    "from Indian_Airlines\n",
    "order by price asc \n",
    "limit 1 \n",
    "'''\n",
    "\n",
    "result3b = pd.read_sql_query(query3b,conn)\n",
    "print('---'*10,'Lowest Price Airline : ','---'*10 ,'\\n',result3b)"
   ]
  },
  {
   "cell_type": "code",
   "execution_count": 6,
   "id": "a01eb736-e709-4525-a2ca-87a193b64af4",
   "metadata": {},
   "outputs": [
    {
     "name": "stdout",
     "output_type": "stream",
     "text": [
      "------------------------------ price variability for each airline :  ------------------------------ \n",
      "      airline  price_variability\n",
      "0    Vistara             121357\n",
      "1  Air_India              89444\n",
      "2   SpiceJet              33052\n",
      "3   GO_FIRST              31698\n",
      "4     Indigo              30847\n",
      "5    AirAsia              30812\n"
     ]
    }
   ],
   "source": [
    "# 4 What is the price variability (difference between max and min price) for each airline?\n",
    "query4 ='''\n",
    "select\n",
    "  airline,\n",
    "  max(price) - min(price) AS price_variability\n",
    "from Indian_Airlines\n",
    "group by airline\n",
    "order by price_variability desc\n",
    "'''\n",
    "result4 = pd.read_sql_query(query4,conn)\n",
    "print('---'*10,'price variability for each airline : ','---'*10 ,'\\n',result4)"
   ]
  },
  {
   "cell_type": "code",
   "execution_count": 7,
   "id": "e4222cd4-0562-4a39-a794-19ac50ed6da5",
   "metadata": {},
   "outputs": [
    {
     "name": "stdout",
     "output_type": "stream",
     "text": [
      "------------------------------ Airlines Operating the most flights :  ------------------------------ \n",
      "      airline  total_flights\n",
      "0    Vistara         127859\n",
      "1  Air_India          80892\n",
      "2     Indigo          43120\n",
      "3   GO_FIRST          23173\n",
      "4    AirAsia          16098\n",
      "5   SpiceJet           9011\n"
     ]
    }
   ],
   "source": [
    "# 5.Which airlines operate the most flights in the dataset?\n",
    "\n",
    "query5 = '''\n",
    "select airline,count(*) as total_flights\n",
    "from Indian_Airlines\n",
    "group by airline\n",
    "order by total_flights desc\n",
    "'''\n",
    "\n",
    "result5 = pd.read_sql_query(query5,conn)\n",
    "print('---'*10,'Airlines Operating the most flights : ','---'*10 ,'\\n',result5)"
   ]
  },
  {
   "cell_type": "code",
   "execution_count": 8,
   "id": "069e5bcf-7267-44a4-85f4-042ef255d05d",
   "metadata": {},
   "outputs": [
    {
     "name": "stdout",
     "output_type": "stream",
     "text": [
      "------------------------------ highest average flight price by route :  ------------------------------ \n",
      "                route  average_price\n",
      "0  Chennai-Bangalore   25081.850454\n",
      "------------------------------ lowest average flight price by route :  ------------------------------ \n",
      "              route  average_price\n",
      "0  Hyderabad-Delhi   17243.945685\n"
     ]
    }
   ],
   "source": [
    "# 6.Which routes have the highest average flight prices?\n",
    "query6a = '''\n",
    "select route,avg(price) as average_price\n",
    "from Indian_Airlines\n",
    "group by route\n",
    "order by average_price desc\n",
    "limit 1\n",
    "'''\n",
    "\n",
    "result6a = pd.read_sql_query(query6a,conn)\n",
    "print('---'*10,'highest average flight price by route : ','---'*10 ,'\\n',result6a)\n",
    "\n",
    "# 6b Which airlines offer the cheapest flights on a specific popular route\n",
    "query6b = '''\n",
    "select route,avg(price) as average_price\n",
    "from Indian_Airlines\n",
    "group by route\n",
    "order by average_price asc\n",
    "limit 1\n",
    "'''\n",
    "result6b = pd.read_sql_query(query6b,conn)\n",
    "print('---'*10,'lowest average flight price by route : ','---'*10 ,'\\n',result6b)"
   ]
  },
  {
   "cell_type": "code",
   "execution_count": 9,
   "id": "4fbdd42c-5a8c-459a-b438-1a2dd6733855",
   "metadata": {},
   "outputs": [
    {
     "name": "stdout",
     "output_type": "stream",
     "text": [
      "------------------------------ flight price vary by time of day :  ------------------------------ \n",
      "   departure_time  average_price\n",
      "0          Night   23062.146808\n",
      "1        Morning   21630.760254\n",
      "2        Evening   21232.361894\n",
      "3  Early_Morning   20370.676718\n",
      "4      Afternoon   18179.203331\n",
      "5     Late_Night    9295.299387\n"
     ]
    }
   ],
   "source": [
    "# 7.How do flight prices vary by time of day (departure hour)?\n",
    "query7 = '''\n",
    "SELECT \n",
    "  `departure_time`,\n",
    "  avg(price) AS average_price\n",
    "from Indian_Airlines\n",
    "group by `departure_time`\n",
    "order by `average_price` desc\n",
    "'''\n",
    "\n",
    "result7 = pd.read_sql_query(query7,conn)\n",
    "print('---'*10,'flight price vary by time of day : ','---'*10 ,'\\n',result7)\n"
   ]
  },
  {
   "cell_type": "code",
   "execution_count": 10,
   "id": "74d0d42d-6b1b-4a9f-9e2e-dfff646c7613",
   "metadata": {},
   "outputs": [
    {
     "name": "stdout",
     "output_type": "stream",
     "text": [
      "------------------------------ Top 5 most expensive routes  :  ------------------------------ \n",
      "                route  average_price\n",
      "0  Chennai-Bangalore   25081.850454\n",
      "1    Kolkata-Chennai   23660.361040\n",
      "2  Bangalore-Kolkata   23500.061229\n",
      "3  Bangalore-Chennai   23321.850078\n",
      "4   Mumbai-Bangalore   23147.873807\n",
      "------------------------------  Top 5 cheapest routes  :  ------------------------------ \n",
      "              route  average_price\n",
      "0  Hyderabad-Delhi   17243.945685\n",
      "1  Delhi-Hyderabad   17347.288379\n",
      "2  Bangalore-Delhi   17723.313972\n",
      "3  Delhi-Bangalore   17880.216315\n",
      "4     Mumbai-Delhi   18725.320008\n"
     ]
    }
   ],
   "source": [
    "# 8.What are the top 5 cheapest and most expensive routes by average price?\n",
    "query8a = '''\n",
    "select route,avg(price) as average_price\n",
    "from Indian_Airlines\n",
    "group by route\n",
    "order by average_price desc\n",
    "limit 5\n",
    "'''\n",
    "\n",
    "result8a = pd.read_sql_query(query8a,conn)\n",
    "print('---'*10,'Top 5 most expensive routes  : ','---'*10 ,'\\n',result8a)\n",
    "\n",
    "# 8b Which airlines offer the cheapest flights on a specific popular route\n",
    "query8b = '''\n",
    "select route,avg(price) as average_price\n",
    "from Indian_Airlines\n",
    "group by route\n",
    "order by average_price asc\n",
    "limit 5\n",
    "'''\n",
    "result8b = pd.read_sql_query(query8b,conn)\n",
    "print('---'*10,' Top 5 cheapest routes  : ','---'*10 ,'\\n',result8b)"
   ]
  },
  {
   "cell_type": "code",
   "execution_count": 11,
   "id": "deec7a36-ae51-4db5-9b45-0661422e6038",
   "metadata": {},
   "outputs": [
    {
     "name": "stdout",
     "output_type": "stream",
     "text": [
      "------------------------------  the highest average flight duration :  ------------------------------ \n",
      "      airline                route  average_duration\n",
      "0  Air_India      Chennai-Kolkata       1087.715891\n",
      "1    Vistara      Kolkata-Chennai       1073.566071\n",
      "2    Vistara      Chennai-Kolkata       1072.947779\n",
      "3  Air_India    Chennai-Bangalore       1056.590354\n",
      "4  Air_India  Bangalore-Hyderabad       1050.908887\n"
     ]
    }
   ],
   "source": [
    "#  9. Which airlines  and route have the highest average flight duration?\n",
    "\n",
    "query9='''\n",
    "select airline,route,avg(`total_duration (minutes)`) as average_duration\n",
    "from Indian_Airlines\n",
    "group by airline,route\n",
    "order by average_duration desc\n",
    "limit 5\n",
    "'''\n",
    "\n",
    "result9 = pd.read_sql_query(query9,conn)\n",
    "print('---'*10,' the highest average flight duration : ','---'*10 ,'\\n',result9)"
   ]
  },
  {
   "cell_type": "code",
   "execution_count": 12,
   "id": "a456ffa8-0738-492e-a114-14b5b787b59f",
   "metadata": {},
   "outputs": [
    {
     "name": "stdout",
     "output_type": "stream",
     "text": [
      "------------------------------  Average price vary by class :  ------------------------------ \n",
      "       class  average_price\n",
      "0  Business   52540.081124\n",
      "1   Economy    6572.342383\n"
     ]
    }
   ],
   "source": [
    "# 10 How does average flight price vary by class?\n",
    "query10 = '''\n",
    "select class, avg(price) as average_price\n",
    "from Indian_Airlines\n",
    "group by class\n",
    "order by average_price desc\n",
    "'''\n",
    "\n",
    "result10 = pd.read_sql_query(query10,conn)\n",
    "print('---'*10,' Average price vary by class : ','---'*10 ,'\\n',result10)"
   ]
  },
  {
   "cell_type": "code",
   "execution_count": 13,
   "id": "34b4fb11-e9ce-4db5-a3a5-976f2b84062c",
   "metadata": {},
   "outputs": [
    {
     "name": "stdout",
     "output_type": "stream",
     "text": [
      "------------------------------   cheapest flights in each class :  ------------------------------ \n",
      "       class    airline  cheapest_price\n",
      "0  Business  Air_India           12000\n",
      "1   Economy    AirAsia            1105\n",
      "2   Economy   GO_FIRST            1105\n",
      "3   Economy     Indigo            1105\n"
     ]
    }
   ],
   "source": [
    "# 11 Which airlines offer the cheapest flights in each class?\n",
    "query11 ='''\n",
    "WITH RankedFlights AS (\n",
    "    SELECT\n",
    "        class,\n",
    "        airline,\n",
    "        MIN(price) AS cheapest_price,\n",
    "        RANK() OVER (PARTITION BY class ORDER BY MIN(price)) AS rank\n",
    "    FROM Indian_Airlines\n",
    "    GROUP BY class, airline\n",
    ")\n",
    "SELECT class, airline, cheapest_price\n",
    "FROM RankedFlights\n",
    "WHERE rank = 1;\n",
    "'''\n",
    "\n",
    "result11 = pd.read_sql_query(query11,conn)\n",
    "print('---'*10,'  cheapest flights in each class : ','---'*10 ,'\\n',result11)"
   ]
  },
  {
   "cell_type": "markdown",
   "id": "e8ce23c3-7fc7-4c0a-aed2-6d30bc68f7a8",
   "metadata": {},
   "source": [
    "### Key Insights from SQL Analysis\n",
    "\n",
    "- **Dataset Size**: 300,153 records.\n",
    "- **Highest Average Price by Airline**: Vistara (~₹30,397).\n",
    "- **Lowest Average Price by Airline**: AirAsia (~₹4,091).\n",
    "- **Most Expensive Route (Avg)**: Chennai-Bangalore (~₹25,082).\n",
    "- **Least Expensive Routes (Avg)**: Delhi-Hyderabad & Hyderabad-Delhi (~₹17,200).\n",
    "- **Highest Single Ticket Price**: Vistara (₹123,071).\n",
    "- **Lowest Single Ticket Price**: AirAsia (₹1,105).\n",
    "- **Most Price Variability**: Vistara.\n",
    "- **Lowest Price Variability**: AirAsia."
   ]
  }
 ],
 "metadata": {
  "kernelspec": {
   "display_name": "Python 3 (ipykernel)",
   "language": "python",
   "name": "python3"
  },
  "language_info": {
   "codemirror_mode": {
    "name": "ipython",
    "version": 3
   },
   "file_extension": ".py",
   "mimetype": "text/x-python",
   "name": "python",
   "nbconvert_exporter": "python",
   "pygments_lexer": "ipython3",
   "version": "3.12.7"
  }
 },
 "nbformat": 4,
 "nbformat_minor": 5
}
